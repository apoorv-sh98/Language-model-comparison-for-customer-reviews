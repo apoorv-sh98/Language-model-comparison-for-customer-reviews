{
 "cells": [
  {
   "cell_type": "code",
   "execution_count": 1,
   "metadata": {},
   "outputs": [],
   "source": [
    "import pandas as pd\n",
    "import numpy as np\n",
    "from sklearn.model_selection import train_test_split"
   ]
  },
  {
   "cell_type": "code",
   "execution_count": 2,
   "metadata": {},
   "outputs": [
    {
     "data": {
      "text/plain": "                                    verified_reviews  \\\n0                                      Love my Echo!   \n1                                          Loved it!   \n2  Sometimes while playing a game, you can answer...   \n3  I have had a lot of fun with this thing. My 4 ...   \n4                                              Music   \n\n                                 paraphrased_reviews  \n0                        \\n\\nI'm so fond of my Echo!  \n1                                   \\n\\nI adored it!  \n2  \\n\\nSometimes when playing a game, I can answe...  \n3  \\n\\nI've had a blast with this device. My four...  \n4   is the food of the soul\\n\\nMusic nourishes th...  ",
      "text/html": "<div>\n<style scoped>\n    .dataframe tbody tr th:only-of-type {\n        vertical-align: middle;\n    }\n\n    .dataframe tbody tr th {\n        vertical-align: top;\n    }\n\n    .dataframe thead th {\n        text-align: right;\n    }\n</style>\n<table border=\"1\" class=\"dataframe\">\n  <thead>\n    <tr style=\"text-align: right;\">\n      <th></th>\n      <th>verified_reviews</th>\n      <th>paraphrased_reviews</th>\n    </tr>\n  </thead>\n  <tbody>\n    <tr>\n      <th>0</th>\n      <td>Love my Echo!</td>\n      <td>\\n\\nI'm so fond of my Echo!</td>\n    </tr>\n    <tr>\n      <th>1</th>\n      <td>Loved it!</td>\n      <td>\\n\\nI adored it!</td>\n    </tr>\n    <tr>\n      <th>2</th>\n      <td>Sometimes while playing a game, you can answer...</td>\n      <td>\\n\\nSometimes when playing a game, I can answe...</td>\n    </tr>\n    <tr>\n      <th>3</th>\n      <td>I have had a lot of fun with this thing. My 4 ...</td>\n      <td>\\n\\nI've had a blast with this device. My four...</td>\n    </tr>\n    <tr>\n      <th>4</th>\n      <td>Music</td>\n      <td>is the food of the soul\\n\\nMusic nourishes th...</td>\n    </tr>\n  </tbody>\n</table>\n</div>"
     },
     "execution_count": 2,
     "metadata": {},
     "output_type": "execute_result"
    }
   ],
   "source": [
    "df = pd.read_csv('dataPreprocess/AlexacombinedReviews.csv')\n",
    "df.head()"
   ]
  },
  {
   "cell_type": "code",
   "execution_count": 3,
   "metadata": {},
   "outputs": [
    {
     "data": {
      "text/plain": "(3150, 2)"
     },
     "execution_count": 3,
     "metadata": {},
     "output_type": "execute_result"
    }
   ],
   "source": [
    "df.shape"
   ]
  },
  {
   "cell_type": "code",
   "execution_count": 4,
   "metadata": {},
   "outputs": [
    {
     "data": {
      "text/plain": "verified_reviews       0\nparaphrased_reviews    1\ndtype: int64"
     },
     "execution_count": 4,
     "metadata": {},
     "output_type": "execute_result"
    }
   ],
   "source": [
    "df.isnull().sum()"
   ]
  },
  {
   "cell_type": "code",
   "execution_count": 5,
   "metadata": {},
   "outputs": [
    {
     "name": "stdout",
     "output_type": "stream",
     "text": [
      "Row indices with missing values:\n",
      "[434]\n"
     ]
    }
   ],
   "source": [
    "mask = df.isnull()\n",
    "row_has_missing = mask.any(axis=1)\n",
    "print(\"Row indices with missing values:\")\n",
    "print(df.index[row_has_missing].tolist())"
   ]
  },
  {
   "cell_type": "code",
   "execution_count": 6,
   "metadata": {},
   "outputs": [],
   "source": [
    "df.dropna(inplace=True)"
   ]
  },
  {
   "cell_type": "code",
   "execution_count": 7,
   "metadata": {},
   "outputs": [
    {
     "data": {
      "text/plain": "(3149, 2)"
     },
     "execution_count": 7,
     "metadata": {},
     "output_type": "execute_result"
    }
   ],
   "source": [
    "df.shape"
   ]
  },
  {
   "cell_type": "code",
   "execution_count": 8,
   "metadata": {},
   "outputs": [],
   "source": [
    "import re\n",
    "# define a regular expression to match any newline character\n",
    "newline_regex = re.compile(r'\\r?\\n')\n",
    "\n",
    "# define a lambda function to remove any newline characters from a string\n",
    "remove_newlines = lambda s: newline_regex.sub('', s)\n",
    "\n",
    "# apply the lambda function to the 'paraphrased_reviews' column\n",
    "df['paraphrased_reviews'] = df['paraphrased_reviews'].apply(remove_newlines)"
   ]
  },
  {
   "cell_type": "code",
   "execution_count": 9,
   "metadata": {},
   "outputs": [],
   "source": [
    "# for i in df['paraphrased_reviews']:\n",
    "#     if '\\n' in i:\n",
    "#        i=i.replace('\\n','')"
   ]
  },
  {
   "cell_type": "code",
   "execution_count": 10,
   "metadata": {},
   "outputs": [],
   "source": [
    "# def remove_char(remove_newlines):\n",
    "#     remove_newlines = lambda x: x.replace('\\n', '')\n",
    "#     return remove_newlines"
   ]
  },
  {
   "cell_type": "code",
   "execution_count": 11,
   "metadata": {},
   "outputs": [],
   "source": [
    "# df['paraphrased_reviews'] = df['paraphrased_reviews'].replace(remove_char)"
   ]
  },
  {
   "cell_type": "code",
   "execution_count": 12,
   "metadata": {},
   "outputs": [
    {
     "data": {
      "text/plain": "                                    verified_reviews  \\\n0                                      Love my Echo!   \n1                                          Loved it!   \n2  Sometimes while playing a game, you can answer...   \n3  I have had a lot of fun with this thing. My 4 ...   \n4                                              Music   \n\n                                 paraphrased_reviews  \n0                            I'm so fond of my Echo!  \n1                                       I adored it!  \n2  Sometimes when playing a game, I can answer a ...  \n3  I've had a blast with this device. My four yea...  \n4   is the food of the soulMusic nourishes the sp...  ",
      "text/html": "<div>\n<style scoped>\n    .dataframe tbody tr th:only-of-type {\n        vertical-align: middle;\n    }\n\n    .dataframe tbody tr th {\n        vertical-align: top;\n    }\n\n    .dataframe thead th {\n        text-align: right;\n    }\n</style>\n<table border=\"1\" class=\"dataframe\">\n  <thead>\n    <tr style=\"text-align: right;\">\n      <th></th>\n      <th>verified_reviews</th>\n      <th>paraphrased_reviews</th>\n    </tr>\n  </thead>\n  <tbody>\n    <tr>\n      <th>0</th>\n      <td>Love my Echo!</td>\n      <td>I'm so fond of my Echo!</td>\n    </tr>\n    <tr>\n      <th>1</th>\n      <td>Loved it!</td>\n      <td>I adored it!</td>\n    </tr>\n    <tr>\n      <th>2</th>\n      <td>Sometimes while playing a game, you can answer...</td>\n      <td>Sometimes when playing a game, I can answer a ...</td>\n    </tr>\n    <tr>\n      <th>3</th>\n      <td>I have had a lot of fun with this thing. My 4 ...</td>\n      <td>I've had a blast with this device. My four yea...</td>\n    </tr>\n    <tr>\n      <th>4</th>\n      <td>Music</td>\n      <td>is the food of the soulMusic nourishes the sp...</td>\n    </tr>\n  </tbody>\n</table>\n</div>"
     },
     "execution_count": 12,
     "metadata": {},
     "output_type": "execute_result"
    }
   ],
   "source": [
    "df.head()"
   ]
  },
  {
   "cell_type": "code",
   "execution_count": 13,
   "metadata": {},
   "outputs": [
    {
     "name": "stdout",
     "output_type": "stream",
     "text": [
      "81\n"
     ]
    }
   ],
   "source": [
    "count=0\n",
    "for i in df['verified_reviews']:\n",
    "    if len(i)==1:\n",
    "        count+=1\n",
    "        # print(i)\n",
    "print(count)\n",
    "\n"
   ]
  },
  {
   "cell_type": "code",
   "execution_count": 16,
   "metadata": {},
   "outputs": [],
   "source": [
    "df = df[~(df['verified_reviews'].str.len() == 1)]"
   ]
  },
  {
   "cell_type": "code",
   "execution_count": 17,
   "metadata": {},
   "outputs": [
    {
     "data": {
      "text/plain": "                                    verified_reviews  \\\n0                                      Love my Echo!   \n1                                          Loved it!   \n2  Sometimes while playing a game, you can answer...   \n3  I have had a lot of fun with this thing. My 4 ...   \n4                                              Music   \n\n                                 paraphrased_reviews  \n0                            I'm so fond of my Echo!  \n1                                       I adored it!  \n2  Sometimes when playing a game, I can answer a ...  \n3  I've had a blast with this device. My four yea...  \n4   is the food of the soulMusic nourishes the sp...  ",
      "text/html": "<div>\n<style scoped>\n    .dataframe tbody tr th:only-of-type {\n        vertical-align: middle;\n    }\n\n    .dataframe tbody tr th {\n        vertical-align: top;\n    }\n\n    .dataframe thead th {\n        text-align: right;\n    }\n</style>\n<table border=\"1\" class=\"dataframe\">\n  <thead>\n    <tr style=\"text-align: right;\">\n      <th></th>\n      <th>verified_reviews</th>\n      <th>paraphrased_reviews</th>\n    </tr>\n  </thead>\n  <tbody>\n    <tr>\n      <th>0</th>\n      <td>Love my Echo!</td>\n      <td>I'm so fond of my Echo!</td>\n    </tr>\n    <tr>\n      <th>1</th>\n      <td>Loved it!</td>\n      <td>I adored it!</td>\n    </tr>\n    <tr>\n      <th>2</th>\n      <td>Sometimes while playing a game, you can answer...</td>\n      <td>Sometimes when playing a game, I can answer a ...</td>\n    </tr>\n    <tr>\n      <th>3</th>\n      <td>I have had a lot of fun with this thing. My 4 ...</td>\n      <td>I've had a blast with this device. My four yea...</td>\n    </tr>\n    <tr>\n      <th>4</th>\n      <td>Music</td>\n      <td>is the food of the soulMusic nourishes the sp...</td>\n    </tr>\n  </tbody>\n</table>\n</div>"
     },
     "execution_count": 17,
     "metadata": {},
     "output_type": "execute_result"
    }
   ],
   "source": [
    "df.head()"
   ]
  },
  {
   "cell_type": "code",
   "execution_count": 18,
   "metadata": {},
   "outputs": [
    {
     "data": {
      "text/plain": "0"
     },
     "execution_count": 18,
     "metadata": {},
     "output_type": "execute_result"
    }
   ],
   "source": [
    "df['verified_reviews'].isnull().sum()"
   ]
  },
  {
   "cell_type": "code",
   "execution_count": 20,
   "metadata": {},
   "outputs": [],
   "source": [
    "df = df[~(df['verified_reviews'].str.split(\" \").str.len() == 1)]"
   ]
  },
  {
   "cell_type": "code",
   "execution_count": 21,
   "metadata": {},
   "outputs": [
    {
     "data": {
      "text/plain": "(2997, 2)"
     },
     "execution_count": 21,
     "metadata": {},
     "output_type": "execute_result"
    }
   ],
   "source": [
    "df.shape"
   ]
  },
  {
   "cell_type": "code",
   "execution_count": 22,
   "metadata": {},
   "outputs": [
    {
     "data": {
      "text/plain": "                                       verified_reviews  \\\n3144                                            love it   \n3145  Perfect for kids, adults and everyone in betwe...   \n3146  Listening to music, searching locations, check...   \n3147  I do love these things, i have them running my...   \n3148  Only complaint I have is that the sound qualit...   \n\n                                    paraphrased_reviews  \n3144                    or leave itTake it or leave it.  \n3145                                Great for all ages!  \n3146  There are many more tasks that can be learned,...  \n3147  I'm really fond of these gadgets; they control...  \n3148  My only issue with the dot is the sound qualit...  ",
      "text/html": "<div>\n<style scoped>\n    .dataframe tbody tr th:only-of-type {\n        vertical-align: middle;\n    }\n\n    .dataframe tbody tr th {\n        vertical-align: top;\n    }\n\n    .dataframe thead th {\n        text-align: right;\n    }\n</style>\n<table border=\"1\" class=\"dataframe\">\n  <thead>\n    <tr style=\"text-align: right;\">\n      <th></th>\n      <th>verified_reviews</th>\n      <th>paraphrased_reviews</th>\n    </tr>\n  </thead>\n  <tbody>\n    <tr>\n      <th>3144</th>\n      <td>love it</td>\n      <td>or leave itTake it or leave it.</td>\n    </tr>\n    <tr>\n      <th>3145</th>\n      <td>Perfect for kids, adults and everyone in betwe...</td>\n      <td>Great for all ages!</td>\n    </tr>\n    <tr>\n      <th>3146</th>\n      <td>Listening to music, searching locations, check...</td>\n      <td>There are many more tasks that can be learned,...</td>\n    </tr>\n    <tr>\n      <th>3147</th>\n      <td>I do love these things, i have them running my...</td>\n      <td>I'm really fond of these gadgets; they control...</td>\n    </tr>\n    <tr>\n      <th>3148</th>\n      <td>Only complaint I have is that the sound qualit...</td>\n      <td>My only issue with the dot is the sound qualit...</td>\n    </tr>\n  </tbody>\n</table>\n</div>"
     },
     "execution_count": 22,
     "metadata": {},
     "output_type": "execute_result"
    }
   ],
   "source": [
    "df.tail()"
   ]
  },
  {
   "cell_type": "markdown",
   "metadata": {},
   "source": [
    "- emoji in-between\n",
    "- one word\n",
    "-"
   ]
  },
  {
   "cell_type": "code",
   "execution_count": null,
   "outputs": [],
   "source": [
    "emoticons = re.compile('[:;=]-?[)(DP]')\n",
    "\n",
    "df['verified_reviews'] = df['verified_reviews'].replace(emoticons, '')\n",
    "\n",
    "# print(df[\"verified_reviews\"][19])"
   ],
   "metadata": {
    "collapsed": false
   }
  },
  {
   "cell_type": "code",
   "execution_count": 39,
   "metadata": {},
   "outputs": [],
   "source": [
    "# from transformers import GPT2Tokenizer\n",
    "# model_name=\"gpt2\"\n"
   ]
  },
  {
   "cell_type": "code",
   "execution_count": 42,
   "outputs": [],
   "source": [
    "X = df.drop('paraphrased_reviews',axis=1)\n",
    "Y = df['paraphrased_reviews']"
   ],
   "metadata": {
    "collapsed": false
   }
  },
  {
   "cell_type": "code",
   "execution_count": 43,
   "outputs": [
    {
     "ename": "ValueError",
     "evalue": "not enough values to unpack (expected 4, got 2)",
     "output_type": "error",
     "traceback": [
      "\u001B[0;31m---------------------------------------------------------------------------\u001B[0m",
      "\u001B[0;31mValueError\u001B[0m                                Traceback (most recent call last)",
      "Input \u001B[0;32mIn [43]\u001B[0m, in \u001B[0;36m<cell line: 2>\u001B[0;34m()\u001B[0m\n\u001B[1;32m      1\u001B[0m \u001B[38;5;28;01mfrom\u001B[39;00m \u001B[38;5;21;01msklearn\u001B[39;00m\u001B[38;5;21;01m.\u001B[39;00m\u001B[38;5;21;01mmodel_selection\u001B[39;00m \u001B[38;5;28;01mimport\u001B[39;00m train_test_split\n\u001B[0;32m----> 2\u001B[0m x_train, y_train,x_test,y_test \u001B[38;5;241m=\u001B[39m train_test_split(df, test_size\u001B[38;5;241m=\u001B[39m\u001B[38;5;241m0.2\u001B[39m, random_state\u001B[38;5;241m=\u001B[39m\u001B[38;5;241m265\u001B[39m)\n\u001B[1;32m      3\u001B[0m \u001B[38;5;28mprint\u001B[39m(x_train)\n",
      "\u001B[0;31mValueError\u001B[0m: not enough values to unpack (expected 4, got 2)"
     ]
    }
   ],
   "source": [
    "from sklearn.model_selection import train_test_split\n",
    "x_train, y_train,x_test,y_test = train_test_split(df, test_size=0.2, random_state=265)\n",
    "print(x_train)"
   ],
   "metadata": {
    "collapsed": false
   }
  },
  {
   "cell_type": "code",
   "execution_count": 41,
   "outputs": [
    {
     "data": {
      "text/plain": "Downloading:   0%|          | 0.00/1.04M [00:00<?, ?B/s]",
      "application/vnd.jupyter.widget-view+json": {
       "version_major": 2,
       "version_minor": 0,
       "model_id": "068f2383c54a441a966cd6a67efb5a6b"
      }
     },
     "metadata": {},
     "output_type": "display_data"
    },
    {
     "data": {
      "text/plain": "Downloading:   0%|          | 0.00/456k [00:00<?, ?B/s]",
      "application/vnd.jupyter.widget-view+json": {
       "version_major": 2,
       "version_minor": 0,
       "model_id": "5f54017cba824cdba4f9520e2ae51a6f"
      }
     },
     "metadata": {},
     "output_type": "display_data"
    },
    {
     "data": {
      "text/plain": "Downloading:   0%|          | 0.00/665 [00:00<?, ?B/s]",
      "application/vnd.jupyter.widget-view+json": {
       "version_major": 2,
       "version_minor": 0,
       "model_id": "c3e6c171273642c58843ca67e9dbf35e"
      }
     },
     "metadata": {},
     "output_type": "display_data"
    },
    {
     "name": "stdout",
     "output_type": "stream",
     "text": [
      "                                       verified_reviews  \\\n",
      "0                                [18565, 616, 21455, 0]   \n",
      "1                                    [43, 2668, 340, 0]   \n",
      "2     [15468, 981, 2712, 257, 983, 11, 345, 460, 328...   \n",
      "3     [40, 423, 550, 257, 1256, 286, 1257, 351, 428,...   \n",
      "5     [40, 2722, 262, 9809, 355, 257, 6979, 13, 314,...   \n",
      "...                                                 ...   \n",
      "3144                                       [23205, 340]   \n",
      "3145  [36635, 329, 3988, 11, 6490, 290, 2506, 287, 1...   \n",
      "3146  [8053, 3101, 284, 2647, 11, 10342, 7064, 11, 1...   \n",
      "3147  [40, 466, 1842, 777, 1243, 11, 1312, 423, 606,...   \n",
      "3148  [10049, 8224, 314, 423, 318, 326, 262, 2128, 3...   \n",
      "\n",
      "                                    paraphrased_reviews  \n",
      "0            [40, 1101, 523, 16245, 286, 616, 21455, 0]  \n",
      "1                               [40, 512, 1850, 340, 0]  \n",
      "2     [15468, 618, 2712, 257, 983, 11, 314, 460, 328...  \n",
      "3     [40, 1053, 550, 257, 11975, 351, 428, 3335, 13...  \n",
      "5     [40, 373, 22527, 281, 21455, 290, 314, 2227, 1...  \n",
      "...                                                 ...  \n",
      "3144   [393, 2666, 340, 12322, 340, 393, 2666, 340, 13]  \n",
      "3145                         [13681, 329, 477, 9337, 0]  \n",
      "3146  [1858, 389, 867, 517, 8861, 326, 460, 307, 449...  \n",
      "3147  [40, 1101, 1107, 16245, 286, 777, 35281, 26, 4...  \n",
      "3148  [3666, 691, 2071, 351, 262, 16605, 318, 262, 2...  \n",
      "\n",
      "[2997 rows x 2 columns]\n"
     ]
    }
   ],
   "source": [
    "from transformers import GPT2Tokenizer\n",
    "\n",
    "tokenizer = GPT2Tokenizer.from_pretrained('gpt2')\n",
    "\n",
    "# Tokenize text column\n",
    "df['verified_reviews'] = df['verified_reviews'].apply(lambda x: tokenizer.encode(x))\n",
    "df['paraphrased_reviews'] = df['paraphrased_reviews'].apply(lambda x: tokenizer.encode(x))\n",
    "\n",
    "# Print updated data frame\n",
    "print(df)"
   ],
   "metadata": {
    "collapsed": false
   }
  },
  {
   "cell_type": "code",
   "execution_count": 56,
   "outputs": [
    {
     "name": "stdout",
     "output_type": "stream",
     "text": [
      "128\n"
     ]
    }
   ],
   "source": [
    "c = 1048576\n",
    "print(0x80 | (c >> 21))\n",
    "# print(0x80 | (c & 0x3F))\n",
    "# print(0xe0 | (c >> 18))\n",
    "# print(0x80 | (c & 0x3F))"
   ],
   "metadata": {
    "collapsed": false
   }
  },
  {
   "cell_type": "code",
   "execution_count": null,
   "outputs": [],
   "source": [],
   "metadata": {
    "collapsed": false
   }
  }
 ],
 "metadata": {
  "kernelspec": {
   "display_name": "Python 3.9.12 ('base')",
   "language": "python",
   "name": "python3"
  },
  "language_info": {
   "codemirror_mode": {
    "name": "ipython",
    "version": 3
   },
   "file_extension": ".py",
   "mimetype": "text/x-python",
   "name": "python",
   "nbconvert_exporter": "python",
   "pygments_lexer": "ipython3",
   "version": "3.9.12"
  },
  "orig_nbformat": 4,
  "vscode": {
   "interpreter": {
    "hash": "bec4ffc65abad1b1b7862a0abc19e670057a4673581208a7c61a208b38b7ad18"
   }
  }
 },
 "nbformat": 4,
 "nbformat_minor": 2
}
