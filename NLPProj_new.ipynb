{
  "cells": [
    {
      "cell_type": "code",
      "source": [
        "from google.colab import drive\n",
        "drive.mount('/content/drive')"
      ],
      "metadata": {
        "colab": {
          "base_uri": "https://localhost:8080/"
        },
        "id": "jFjMgyUSMP4_",
        "outputId": "76486dda-f872-4e68-81a1-bdbf4a52685c"
      },
      "execution_count": 1,
      "outputs": [
        {
          "output_type": "stream",
          "name": "stdout",
          "text": [
            "Drive already mounted at /content/drive; to attempt to forcibly remount, call drive.mount(\"/content/drive\", force_remount=True).\n"
          ]
        }
      ]
    },
    {
      "cell_type": "code",
      "source": [
        "cd drive/MyDrive/NLP"
      ],
      "metadata": {
        "colab": {
          "base_uri": "https://localhost:8080/"
        },
        "id": "NXHxKzg8McKW",
        "outputId": "72031cb3-1415-40af-9b37-7d1ff7a79818"
      },
      "execution_count": 2,
      "outputs": [
        {
          "output_type": "stream",
          "name": "stdout",
          "text": [
            "/content/drive/MyDrive/NLP\n"
          ]
        }
      ]
    },
    {
      "cell_type": "code",
      "execution_count": 3,
      "metadata": {
        "id": "i7MfoZob0vtz"
      },
      "outputs": [],
      "source": [
        "import pandas as pd\n",
        "import numpy as np\n",
        "# import torch\n",
        "from sklearn.model_selection import train_test_split"
      ]
    },
    {
      "cell_type": "code",
      "execution_count": 4,
      "metadata": {
        "colab": {
          "base_uri": "https://localhost:8080/",
          "height": 228
        },
        "id": "lN4uj8st0vt3",
        "outputId": "957f4b43-7bab-436c-e19a-8c6ec766ff0b"
      },
      "outputs": [
        {
          "output_type": "execute_result",
          "data": {
            "text/plain": [
              "                                    verified_reviews  \\\n",
              "0                                      Love my Echo!   \n",
              "1                                          Loved it!   \n",
              "2  Sometimes while playing a game, you can answer...   \n",
              "3  I have had a lot of fun with this thing. My 4 ...   \n",
              "4                                              Music   \n",
              "\n",
              "                                 paraphrased_reviews  \n",
              "0                        \\n\\nI'm so fond of my Echo!  \n",
              "1                                   \\n\\nI adored it!  \n",
              "2  \\n\\nSometimes when playing a game, I can answe...  \n",
              "3  \\n\\nI've had a blast with this device. My four...  \n",
              "4   is the food of the soul\\n\\nMusic nourishes th...  "
            ],
            "text/html": [
              "\n",
              "  <div id=\"df-73cf8e48-82e3-4bda-9586-c91f973e332e\">\n",
              "    <div class=\"colab-df-container\">\n",
              "      <div>\n",
              "<style scoped>\n",
              "    .dataframe tbody tr th:only-of-type {\n",
              "        vertical-align: middle;\n",
              "    }\n",
              "\n",
              "    .dataframe tbody tr th {\n",
              "        vertical-align: top;\n",
              "    }\n",
              "\n",
              "    .dataframe thead th {\n",
              "        text-align: right;\n",
              "    }\n",
              "</style>\n",
              "<table border=\"1\" class=\"dataframe\">\n",
              "  <thead>\n",
              "    <tr style=\"text-align: right;\">\n",
              "      <th></th>\n",
              "      <th>verified_reviews</th>\n",
              "      <th>paraphrased_reviews</th>\n",
              "    </tr>\n",
              "  </thead>\n",
              "  <tbody>\n",
              "    <tr>\n",
              "      <th>0</th>\n",
              "      <td>Love my Echo!</td>\n",
              "      <td>\\n\\nI'm so fond of my Echo!</td>\n",
              "    </tr>\n",
              "    <tr>\n",
              "      <th>1</th>\n",
              "      <td>Loved it!</td>\n",
              "      <td>\\n\\nI adored it!</td>\n",
              "    </tr>\n",
              "    <tr>\n",
              "      <th>2</th>\n",
              "      <td>Sometimes while playing a game, you can answer...</td>\n",
              "      <td>\\n\\nSometimes when playing a game, I can answe...</td>\n",
              "    </tr>\n",
              "    <tr>\n",
              "      <th>3</th>\n",
              "      <td>I have had a lot of fun with this thing. My 4 ...</td>\n",
              "      <td>\\n\\nI've had a blast with this device. My four...</td>\n",
              "    </tr>\n",
              "    <tr>\n",
              "      <th>4</th>\n",
              "      <td>Music</td>\n",
              "      <td>is the food of the soul\\n\\nMusic nourishes th...</td>\n",
              "    </tr>\n",
              "  </tbody>\n",
              "</table>\n",
              "</div>\n",
              "      <button class=\"colab-df-convert\" onclick=\"convertToInteractive('df-73cf8e48-82e3-4bda-9586-c91f973e332e')\"\n",
              "              title=\"Convert this dataframe to an interactive table.\"\n",
              "              style=\"display:none;\">\n",
              "        \n",
              "  <svg xmlns=\"http://www.w3.org/2000/svg\" height=\"24px\"viewBox=\"0 0 24 24\"\n",
              "       width=\"24px\">\n",
              "    <path d=\"M0 0h24v24H0V0z\" fill=\"none\"/>\n",
              "    <path d=\"M18.56 5.44l.94 2.06.94-2.06 2.06-.94-2.06-.94-.94-2.06-.94 2.06-2.06.94zm-11 1L8.5 8.5l.94-2.06 2.06-.94-2.06-.94L8.5 2.5l-.94 2.06-2.06.94zm10 10l.94 2.06.94-2.06 2.06-.94-2.06-.94-.94-2.06-.94 2.06-2.06.94z\"/><path d=\"M17.41 7.96l-1.37-1.37c-.4-.4-.92-.59-1.43-.59-.52 0-1.04.2-1.43.59L10.3 9.45l-7.72 7.72c-.78.78-.78 2.05 0 2.83L4 21.41c.39.39.9.59 1.41.59.51 0 1.02-.2 1.41-.59l7.78-7.78 2.81-2.81c.8-.78.8-2.07 0-2.86zM5.41 20L4 18.59l7.72-7.72 1.47 1.35L5.41 20z\"/>\n",
              "  </svg>\n",
              "      </button>\n",
              "      \n",
              "  <style>\n",
              "    .colab-df-container {\n",
              "      display:flex;\n",
              "      flex-wrap:wrap;\n",
              "      gap: 12px;\n",
              "    }\n",
              "\n",
              "    .colab-df-convert {\n",
              "      background-color: #E8F0FE;\n",
              "      border: none;\n",
              "      border-radius: 50%;\n",
              "      cursor: pointer;\n",
              "      display: none;\n",
              "      fill: #1967D2;\n",
              "      height: 32px;\n",
              "      padding: 0 0 0 0;\n",
              "      width: 32px;\n",
              "    }\n",
              "\n",
              "    .colab-df-convert:hover {\n",
              "      background-color: #E2EBFA;\n",
              "      box-shadow: 0px 1px 2px rgba(60, 64, 67, 0.3), 0px 1px 3px 1px rgba(60, 64, 67, 0.15);\n",
              "      fill: #174EA6;\n",
              "    }\n",
              "\n",
              "    [theme=dark] .colab-df-convert {\n",
              "      background-color: #3B4455;\n",
              "      fill: #D2E3FC;\n",
              "    }\n",
              "\n",
              "    [theme=dark] .colab-df-convert:hover {\n",
              "      background-color: #434B5C;\n",
              "      box-shadow: 0px 1px 3px 1px rgba(0, 0, 0, 0.15);\n",
              "      filter: drop-shadow(0px 1px 2px rgba(0, 0, 0, 0.3));\n",
              "      fill: #FFFFFF;\n",
              "    }\n",
              "  </style>\n",
              "\n",
              "      <script>\n",
              "        const buttonEl =\n",
              "          document.querySelector('#df-73cf8e48-82e3-4bda-9586-c91f973e332e button.colab-df-convert');\n",
              "        buttonEl.style.display =\n",
              "          google.colab.kernel.accessAllowed ? 'block' : 'none';\n",
              "\n",
              "        async function convertToInteractive(key) {\n",
              "          const element = document.querySelector('#df-73cf8e48-82e3-4bda-9586-c91f973e332e');\n",
              "          const dataTable =\n",
              "            await google.colab.kernel.invokeFunction('convertToInteractive',\n",
              "                                                     [key], {});\n",
              "          if (!dataTable) return;\n",
              "\n",
              "          const docLinkHtml = 'Like what you see? Visit the ' +\n",
              "            '<a target=\"_blank\" href=https://colab.research.google.com/notebooks/data_table.ipynb>data table notebook</a>'\n",
              "            + ' to learn more about interactive tables.';\n",
              "          element.innerHTML = '';\n",
              "          dataTable['output_type'] = 'display_data';\n",
              "          await google.colab.output.renderOutput(dataTable, element);\n",
              "          const docLink = document.createElement('div');\n",
              "          docLink.innerHTML = docLinkHtml;\n",
              "          element.appendChild(docLink);\n",
              "        }\n",
              "      </script>\n",
              "    </div>\n",
              "  </div>\n",
              "  "
            ]
          },
          "metadata": {},
          "execution_count": 4
        }
      ],
      "source": [
        "df = pd.read_csv('AlexaCombinedReviews.csv')\n",
        "df.head()"
      ]
    },
    {
      "cell_type": "code",
      "execution_count": 5,
      "metadata": {
        "colab": {
          "base_uri": "https://localhost:8080/"
        },
        "id": "OHr2TuuC0vt4",
        "outputId": "c82b56d9-120b-43bb-e6b4-d050e05e1e7e"
      },
      "outputs": [
        {
          "output_type": "execute_result",
          "data": {
            "text/plain": [
              "(3150, 2)"
            ]
          },
          "metadata": {},
          "execution_count": 5
        }
      ],
      "source": [
        "df.shape"
      ]
    },
    {
      "cell_type": "code",
      "execution_count": 6,
      "metadata": {
        "colab": {
          "base_uri": "https://localhost:8080/"
        },
        "id": "6viyM9U80vt5",
        "outputId": "bc96c7e4-2916-473a-b268-85de3088c47c"
      },
      "outputs": [
        {
          "output_type": "execute_result",
          "data": {
            "text/plain": [
              "verified_reviews       0\n",
              "paraphrased_reviews    1\n",
              "dtype: int64"
            ]
          },
          "metadata": {},
          "execution_count": 6
        }
      ],
      "source": [
        "df.isnull().sum()"
      ]
    },
    {
      "cell_type": "code",
      "execution_count": 7,
      "metadata": {
        "colab": {
          "base_uri": "https://localhost:8080/"
        },
        "id": "g6j2h3DB0vt5",
        "outputId": "9dc9dd06-8001-4128-fe15-2cb9f435d179"
      },
      "outputs": [
        {
          "output_type": "stream",
          "name": "stdout",
          "text": [
            "Row indices with missing values:\n",
            "[434]\n"
          ]
        }
      ],
      "source": [
        "mask = df.isnull()\n",
        "row_has_missing = mask.any(axis=1)\n",
        "print(\"Row indices with missing values:\")\n",
        "print(df.index[row_has_missing].tolist())"
      ]
    },
    {
      "cell_type": "code",
      "execution_count": 8,
      "metadata": {
        "id": "3ziwxIZK0vt6"
      },
      "outputs": [],
      "source": [
        "df.dropna(inplace=True)"
      ]
    },
    {
      "cell_type": "code",
      "execution_count": 9,
      "metadata": {
        "colab": {
          "base_uri": "https://localhost:8080/"
        },
        "id": "nttdMuB30vt6",
        "outputId": "64cc6bcd-4a6a-4fc0-81a6-d5d15c96d0d3"
      },
      "outputs": [
        {
          "output_type": "execute_result",
          "data": {
            "text/plain": [
              "(3149, 2)"
            ]
          },
          "metadata": {},
          "execution_count": 9
        }
      ],
      "source": [
        "df.shape"
      ]
    },
    {
      "cell_type": "code",
      "execution_count": 10,
      "metadata": {
        "id": "5ieUWAkX0vt6"
      },
      "outputs": [],
      "source": [
        "import re\n",
        "# define a regular expression to match any newline character\n",
        "newline_regex = re.compile(r'\\r?\\n')\n",
        "\n",
        "# define a lambda function to remove any newline characters from a string\n",
        "remove_newlines = lambda s: newline_regex.sub('', s)\n",
        "\n",
        "# apply the lambda function to the 'paraphrased_reviews' column\n",
        "df['paraphrased_reviews'] = df['paraphrased_reviews'].apply(remove_newlines)"
      ]
    },
    {
      "cell_type": "code",
      "execution_count": 11,
      "metadata": {
        "id": "6gBslIEA0vt7"
      },
      "outputs": [],
      "source": [
        "# for i in df['paraphrased_reviews']:\n",
        "#     if '\\n' in i:\n",
        "#        i=i.replace('\\n','')"
      ]
    },
    {
      "cell_type": "code",
      "execution_count": 12,
      "metadata": {
        "id": "skXFduCh0vt7"
      },
      "outputs": [],
      "source": [
        "# def remove_char(remove_newlines):\n",
        "#     remove_newlines = lambda x: x.replace('\\n', '')\n",
        "#     return remove_newlines"
      ]
    },
    {
      "cell_type": "code",
      "execution_count": 13,
      "metadata": {
        "id": "ZEGpb5J90vt8"
      },
      "outputs": [],
      "source": [
        "# df['paraphrased_reviews'] = df['paraphrased_reviews'].replace(remove_char)"
      ]
    },
    {
      "cell_type": "code",
      "execution_count": 14,
      "metadata": {
        "colab": {
          "base_uri": "https://localhost:8080/",
          "height": 228
        },
        "id": "K2XTJ11L0vt8",
        "outputId": "c58cfeaa-7daf-43b9-9db8-8b75df3816e5"
      },
      "outputs": [
        {
          "output_type": "execute_result",
          "data": {
            "text/plain": [
              "                                    verified_reviews  \\\n",
              "0                                      Love my Echo!   \n",
              "1                                          Loved it!   \n",
              "2  Sometimes while playing a game, you can answer...   \n",
              "3  I have had a lot of fun with this thing. My 4 ...   \n",
              "4                                              Music   \n",
              "\n",
              "                                 paraphrased_reviews  \n",
              "0                            I'm so fond of my Echo!  \n",
              "1                                       I adored it!  \n",
              "2  Sometimes when playing a game, I can answer a ...  \n",
              "3  I've had a blast with this device. My four yea...  \n",
              "4   is the food of the soulMusic nourishes the sp...  "
            ],
            "text/html": [
              "\n",
              "  <div id=\"df-9783023b-3f5c-4883-b8ee-67668ac46132\">\n",
              "    <div class=\"colab-df-container\">\n",
              "      <div>\n",
              "<style scoped>\n",
              "    .dataframe tbody tr th:only-of-type {\n",
              "        vertical-align: middle;\n",
              "    }\n",
              "\n",
              "    .dataframe tbody tr th {\n",
              "        vertical-align: top;\n",
              "    }\n",
              "\n",
              "    .dataframe thead th {\n",
              "        text-align: right;\n",
              "    }\n",
              "</style>\n",
              "<table border=\"1\" class=\"dataframe\">\n",
              "  <thead>\n",
              "    <tr style=\"text-align: right;\">\n",
              "      <th></th>\n",
              "      <th>verified_reviews</th>\n",
              "      <th>paraphrased_reviews</th>\n",
              "    </tr>\n",
              "  </thead>\n",
              "  <tbody>\n",
              "    <tr>\n",
              "      <th>0</th>\n",
              "      <td>Love my Echo!</td>\n",
              "      <td>I'm so fond of my Echo!</td>\n",
              "    </tr>\n",
              "    <tr>\n",
              "      <th>1</th>\n",
              "      <td>Loved it!</td>\n",
              "      <td>I adored it!</td>\n",
              "    </tr>\n",
              "    <tr>\n",
              "      <th>2</th>\n",
              "      <td>Sometimes while playing a game, you can answer...</td>\n",
              "      <td>Sometimes when playing a game, I can answer a ...</td>\n",
              "    </tr>\n",
              "    <tr>\n",
              "      <th>3</th>\n",
              "      <td>I have had a lot of fun with this thing. My 4 ...</td>\n",
              "      <td>I've had a blast with this device. My four yea...</td>\n",
              "    </tr>\n",
              "    <tr>\n",
              "      <th>4</th>\n",
              "      <td>Music</td>\n",
              "      <td>is the food of the soulMusic nourishes the sp...</td>\n",
              "    </tr>\n",
              "  </tbody>\n",
              "</table>\n",
              "</div>\n",
              "      <button class=\"colab-df-convert\" onclick=\"convertToInteractive('df-9783023b-3f5c-4883-b8ee-67668ac46132')\"\n",
              "              title=\"Convert this dataframe to an interactive table.\"\n",
              "              style=\"display:none;\">\n",
              "        \n",
              "  <svg xmlns=\"http://www.w3.org/2000/svg\" height=\"24px\"viewBox=\"0 0 24 24\"\n",
              "       width=\"24px\">\n",
              "    <path d=\"M0 0h24v24H0V0z\" fill=\"none\"/>\n",
              "    <path d=\"M18.56 5.44l.94 2.06.94-2.06 2.06-.94-2.06-.94-.94-2.06-.94 2.06-2.06.94zm-11 1L8.5 8.5l.94-2.06 2.06-.94-2.06-.94L8.5 2.5l-.94 2.06-2.06.94zm10 10l.94 2.06.94-2.06 2.06-.94-2.06-.94-.94-2.06-.94 2.06-2.06.94z\"/><path d=\"M17.41 7.96l-1.37-1.37c-.4-.4-.92-.59-1.43-.59-.52 0-1.04.2-1.43.59L10.3 9.45l-7.72 7.72c-.78.78-.78 2.05 0 2.83L4 21.41c.39.39.9.59 1.41.59.51 0 1.02-.2 1.41-.59l7.78-7.78 2.81-2.81c.8-.78.8-2.07 0-2.86zM5.41 20L4 18.59l7.72-7.72 1.47 1.35L5.41 20z\"/>\n",
              "  </svg>\n",
              "      </button>\n",
              "      \n",
              "  <style>\n",
              "    .colab-df-container {\n",
              "      display:flex;\n",
              "      flex-wrap:wrap;\n",
              "      gap: 12px;\n",
              "    }\n",
              "\n",
              "    .colab-df-convert {\n",
              "      background-color: #E8F0FE;\n",
              "      border: none;\n",
              "      border-radius: 50%;\n",
              "      cursor: pointer;\n",
              "      display: none;\n",
              "      fill: #1967D2;\n",
              "      height: 32px;\n",
              "      padding: 0 0 0 0;\n",
              "      width: 32px;\n",
              "    }\n",
              "\n",
              "    .colab-df-convert:hover {\n",
              "      background-color: #E2EBFA;\n",
              "      box-shadow: 0px 1px 2px rgba(60, 64, 67, 0.3), 0px 1px 3px 1px rgba(60, 64, 67, 0.15);\n",
              "      fill: #174EA6;\n",
              "    }\n",
              "\n",
              "    [theme=dark] .colab-df-convert {\n",
              "      background-color: #3B4455;\n",
              "      fill: #D2E3FC;\n",
              "    }\n",
              "\n",
              "    [theme=dark] .colab-df-convert:hover {\n",
              "      background-color: #434B5C;\n",
              "      box-shadow: 0px 1px 3px 1px rgba(0, 0, 0, 0.15);\n",
              "      filter: drop-shadow(0px 1px 2px rgba(0, 0, 0, 0.3));\n",
              "      fill: #FFFFFF;\n",
              "    }\n",
              "  </style>\n",
              "\n",
              "      <script>\n",
              "        const buttonEl =\n",
              "          document.querySelector('#df-9783023b-3f5c-4883-b8ee-67668ac46132 button.colab-df-convert');\n",
              "        buttonEl.style.display =\n",
              "          google.colab.kernel.accessAllowed ? 'block' : 'none';\n",
              "\n",
              "        async function convertToInteractive(key) {\n",
              "          const element = document.querySelector('#df-9783023b-3f5c-4883-b8ee-67668ac46132');\n",
              "          const dataTable =\n",
              "            await google.colab.kernel.invokeFunction('convertToInteractive',\n",
              "                                                     [key], {});\n",
              "          if (!dataTable) return;\n",
              "\n",
              "          const docLinkHtml = 'Like what you see? Visit the ' +\n",
              "            '<a target=\"_blank\" href=https://colab.research.google.com/notebooks/data_table.ipynb>data table notebook</a>'\n",
              "            + ' to learn more about interactive tables.';\n",
              "          element.innerHTML = '';\n",
              "          dataTable['output_type'] = 'display_data';\n",
              "          await google.colab.output.renderOutput(dataTable, element);\n",
              "          const docLink = document.createElement('div');\n",
              "          docLink.innerHTML = docLinkHtml;\n",
              "          element.appendChild(docLink);\n",
              "        }\n",
              "      </script>\n",
              "    </div>\n",
              "  </div>\n",
              "  "
            ]
          },
          "metadata": {},
          "execution_count": 14
        }
      ],
      "source": [
        "df.head()"
      ]
    },
    {
      "cell_type": "code",
      "execution_count": 15,
      "metadata": {
        "colab": {
          "base_uri": "https://localhost:8080/"
        },
        "id": "mD26fdwX0vt8",
        "outputId": "a3b06453-6d12-4556-a748-a121149026db"
      },
      "outputs": [
        {
          "output_type": "stream",
          "name": "stdout",
          "text": [
            "81\n"
          ]
        }
      ],
      "source": [
        "count=0\n",
        "for i in df['verified_reviews']:\n",
        "    if len(i)==1:\n",
        "        count+=1\n",
        "        # print(i)\n",
        "print(count)\n",
        "\n"
      ]
    },
    {
      "cell_type": "code",
      "execution_count": 16,
      "metadata": {
        "id": "ETtCeUbD0vt9"
      },
      "outputs": [],
      "source": [
        "df = df[~(df['verified_reviews'].str.len() == 1)]"
      ]
    },
    {
      "cell_type": "code",
      "execution_count": 17,
      "metadata": {
        "colab": {
          "base_uri": "https://localhost:8080/",
          "height": 228
        },
        "id": "xnlpHVg90vt9",
        "outputId": "d019fac1-9aac-4771-e622-814683da0cef"
      },
      "outputs": [
        {
          "output_type": "execute_result",
          "data": {
            "text/plain": [
              "                                    verified_reviews  \\\n",
              "0                                      Love my Echo!   \n",
              "1                                          Loved it!   \n",
              "2  Sometimes while playing a game, you can answer...   \n",
              "3  I have had a lot of fun with this thing. My 4 ...   \n",
              "4                                              Music   \n",
              "\n",
              "                                 paraphrased_reviews  \n",
              "0                            I'm so fond of my Echo!  \n",
              "1                                       I adored it!  \n",
              "2  Sometimes when playing a game, I can answer a ...  \n",
              "3  I've had a blast with this device. My four yea...  \n",
              "4   is the food of the soulMusic nourishes the sp...  "
            ],
            "text/html": [
              "\n",
              "  <div id=\"df-7c47612a-a851-45fd-826f-a28f34eb0f73\">\n",
              "    <div class=\"colab-df-container\">\n",
              "      <div>\n",
              "<style scoped>\n",
              "    .dataframe tbody tr th:only-of-type {\n",
              "        vertical-align: middle;\n",
              "    }\n",
              "\n",
              "    .dataframe tbody tr th {\n",
              "        vertical-align: top;\n",
              "    }\n",
              "\n",
              "    .dataframe thead th {\n",
              "        text-align: right;\n",
              "    }\n",
              "</style>\n",
              "<table border=\"1\" class=\"dataframe\">\n",
              "  <thead>\n",
              "    <tr style=\"text-align: right;\">\n",
              "      <th></th>\n",
              "      <th>verified_reviews</th>\n",
              "      <th>paraphrased_reviews</th>\n",
              "    </tr>\n",
              "  </thead>\n",
              "  <tbody>\n",
              "    <tr>\n",
              "      <th>0</th>\n",
              "      <td>Love my Echo!</td>\n",
              "      <td>I'm so fond of my Echo!</td>\n",
              "    </tr>\n",
              "    <tr>\n",
              "      <th>1</th>\n",
              "      <td>Loved it!</td>\n",
              "      <td>I adored it!</td>\n",
              "    </tr>\n",
              "    <tr>\n",
              "      <th>2</th>\n",
              "      <td>Sometimes while playing a game, you can answer...</td>\n",
              "      <td>Sometimes when playing a game, I can answer a ...</td>\n",
              "    </tr>\n",
              "    <tr>\n",
              "      <th>3</th>\n",
              "      <td>I have had a lot of fun with this thing. My 4 ...</td>\n",
              "      <td>I've had a blast with this device. My four yea...</td>\n",
              "    </tr>\n",
              "    <tr>\n",
              "      <th>4</th>\n",
              "      <td>Music</td>\n",
              "      <td>is the food of the soulMusic nourishes the sp...</td>\n",
              "    </tr>\n",
              "  </tbody>\n",
              "</table>\n",
              "</div>\n",
              "      <button class=\"colab-df-convert\" onclick=\"convertToInteractive('df-7c47612a-a851-45fd-826f-a28f34eb0f73')\"\n",
              "              title=\"Convert this dataframe to an interactive table.\"\n",
              "              style=\"display:none;\">\n",
              "        \n",
              "  <svg xmlns=\"http://www.w3.org/2000/svg\" height=\"24px\"viewBox=\"0 0 24 24\"\n",
              "       width=\"24px\">\n",
              "    <path d=\"M0 0h24v24H0V0z\" fill=\"none\"/>\n",
              "    <path d=\"M18.56 5.44l.94 2.06.94-2.06 2.06-.94-2.06-.94-.94-2.06-.94 2.06-2.06.94zm-11 1L8.5 8.5l.94-2.06 2.06-.94-2.06-.94L8.5 2.5l-.94 2.06-2.06.94zm10 10l.94 2.06.94-2.06 2.06-.94-2.06-.94-.94-2.06-.94 2.06-2.06.94z\"/><path d=\"M17.41 7.96l-1.37-1.37c-.4-.4-.92-.59-1.43-.59-.52 0-1.04.2-1.43.59L10.3 9.45l-7.72 7.72c-.78.78-.78 2.05 0 2.83L4 21.41c.39.39.9.59 1.41.59.51 0 1.02-.2 1.41-.59l7.78-7.78 2.81-2.81c.8-.78.8-2.07 0-2.86zM5.41 20L4 18.59l7.72-7.72 1.47 1.35L5.41 20z\"/>\n",
              "  </svg>\n",
              "      </button>\n",
              "      \n",
              "  <style>\n",
              "    .colab-df-container {\n",
              "      display:flex;\n",
              "      flex-wrap:wrap;\n",
              "      gap: 12px;\n",
              "    }\n",
              "\n",
              "    .colab-df-convert {\n",
              "      background-color: #E8F0FE;\n",
              "      border: none;\n",
              "      border-radius: 50%;\n",
              "      cursor: pointer;\n",
              "      display: none;\n",
              "      fill: #1967D2;\n",
              "      height: 32px;\n",
              "      padding: 0 0 0 0;\n",
              "      width: 32px;\n",
              "    }\n",
              "\n",
              "    .colab-df-convert:hover {\n",
              "      background-color: #E2EBFA;\n",
              "      box-shadow: 0px 1px 2px rgba(60, 64, 67, 0.3), 0px 1px 3px 1px rgba(60, 64, 67, 0.15);\n",
              "      fill: #174EA6;\n",
              "    }\n",
              "\n",
              "    [theme=dark] .colab-df-convert {\n",
              "      background-color: #3B4455;\n",
              "      fill: #D2E3FC;\n",
              "    }\n",
              "\n",
              "    [theme=dark] .colab-df-convert:hover {\n",
              "      background-color: #434B5C;\n",
              "      box-shadow: 0px 1px 3px 1px rgba(0, 0, 0, 0.15);\n",
              "      filter: drop-shadow(0px 1px 2px rgba(0, 0, 0, 0.3));\n",
              "      fill: #FFFFFF;\n",
              "    }\n",
              "  </style>\n",
              "\n",
              "      <script>\n",
              "        const buttonEl =\n",
              "          document.querySelector('#df-7c47612a-a851-45fd-826f-a28f34eb0f73 button.colab-df-convert');\n",
              "        buttonEl.style.display =\n",
              "          google.colab.kernel.accessAllowed ? 'block' : 'none';\n",
              "\n",
              "        async function convertToInteractive(key) {\n",
              "          const element = document.querySelector('#df-7c47612a-a851-45fd-826f-a28f34eb0f73');\n",
              "          const dataTable =\n",
              "            await google.colab.kernel.invokeFunction('convertToInteractive',\n",
              "                                                     [key], {});\n",
              "          if (!dataTable) return;\n",
              "\n",
              "          const docLinkHtml = 'Like what you see? Visit the ' +\n",
              "            '<a target=\"_blank\" href=https://colab.research.google.com/notebooks/data_table.ipynb>data table notebook</a>'\n",
              "            + ' to learn more about interactive tables.';\n",
              "          element.innerHTML = '';\n",
              "          dataTable['output_type'] = 'display_data';\n",
              "          await google.colab.output.renderOutput(dataTable, element);\n",
              "          const docLink = document.createElement('div');\n",
              "          docLink.innerHTML = docLinkHtml;\n",
              "          element.appendChild(docLink);\n",
              "        }\n",
              "      </script>\n",
              "    </div>\n",
              "  </div>\n",
              "  "
            ]
          },
          "metadata": {},
          "execution_count": 17
        }
      ],
      "source": [
        "df.head()"
      ]
    },
    {
      "cell_type": "code",
      "execution_count": 18,
      "metadata": {
        "colab": {
          "base_uri": "https://localhost:8080/"
        },
        "id": "3Kg_dvlX0vt-",
        "outputId": "8160c974-c414-4814-fbf1-171ca1273bc3"
      },
      "outputs": [
        {
          "output_type": "execute_result",
          "data": {
            "text/plain": [
              "0"
            ]
          },
          "metadata": {},
          "execution_count": 18
        }
      ],
      "source": [
        "df['verified_reviews'].isnull().sum()"
      ]
    },
    {
      "cell_type": "code",
      "execution_count": 19,
      "metadata": {
        "id": "NtcNWjnS0vt_"
      },
      "outputs": [],
      "source": [
        "df = df[~(df['verified_reviews'].str.split(\" \").str.len() == 1)]"
      ]
    },
    {
      "cell_type": "code",
      "execution_count": 20,
      "metadata": {
        "colab": {
          "base_uri": "https://localhost:8080/"
        },
        "id": "pUOZWNHC0vt_",
        "outputId": "37dfc524-51a5-4fc5-ea1a-0b9723469c7c"
      },
      "outputs": [
        {
          "output_type": "execute_result",
          "data": {
            "text/plain": [
              "(2997, 2)"
            ]
          },
          "metadata": {},
          "execution_count": 20
        }
      ],
      "source": [
        "df.shape"
      ]
    },
    {
      "cell_type": "code",
      "execution_count": 21,
      "metadata": {
        "colab": {
          "base_uri": "https://localhost:8080/",
          "height": 228
        },
        "id": "snMI3JZD0vt_",
        "outputId": "4f6c720a-5fe4-47c9-c77f-1439e39bcff7"
      },
      "outputs": [
        {
          "output_type": "execute_result",
          "data": {
            "text/plain": [
              "                                       verified_reviews  \\\n",
              "3144                                            love it   \n",
              "3145  Perfect for kids, adults and everyone in betwe...   \n",
              "3146  Listening to music, searching locations, check...   \n",
              "3147  I do love these things, i have them running my...   \n",
              "3148  Only complaint I have is that the sound qualit...   \n",
              "\n",
              "                                    paraphrased_reviews  \n",
              "3144                    or leave itTake it or leave it.  \n",
              "3145                                Great for all ages!  \n",
              "3146  There are many more tasks that can be learned,...  \n",
              "3147  I'm really fond of these gadgets; they control...  \n",
              "3148  My only issue with the dot is the sound qualit...  "
            ],
            "text/html": [
              "\n",
              "  <div id=\"df-369e48f2-088f-4e62-b5b4-a673b852807a\">\n",
              "    <div class=\"colab-df-container\">\n",
              "      <div>\n",
              "<style scoped>\n",
              "    .dataframe tbody tr th:only-of-type {\n",
              "        vertical-align: middle;\n",
              "    }\n",
              "\n",
              "    .dataframe tbody tr th {\n",
              "        vertical-align: top;\n",
              "    }\n",
              "\n",
              "    .dataframe thead th {\n",
              "        text-align: right;\n",
              "    }\n",
              "</style>\n",
              "<table border=\"1\" class=\"dataframe\">\n",
              "  <thead>\n",
              "    <tr style=\"text-align: right;\">\n",
              "      <th></th>\n",
              "      <th>verified_reviews</th>\n",
              "      <th>paraphrased_reviews</th>\n",
              "    </tr>\n",
              "  </thead>\n",
              "  <tbody>\n",
              "    <tr>\n",
              "      <th>3144</th>\n",
              "      <td>love it</td>\n",
              "      <td>or leave itTake it or leave it.</td>\n",
              "    </tr>\n",
              "    <tr>\n",
              "      <th>3145</th>\n",
              "      <td>Perfect for kids, adults and everyone in betwe...</td>\n",
              "      <td>Great for all ages!</td>\n",
              "    </tr>\n",
              "    <tr>\n",
              "      <th>3146</th>\n",
              "      <td>Listening to music, searching locations, check...</td>\n",
              "      <td>There are many more tasks that can be learned,...</td>\n",
              "    </tr>\n",
              "    <tr>\n",
              "      <th>3147</th>\n",
              "      <td>I do love these things, i have them running my...</td>\n",
              "      <td>I'm really fond of these gadgets; they control...</td>\n",
              "    </tr>\n",
              "    <tr>\n",
              "      <th>3148</th>\n",
              "      <td>Only complaint I have is that the sound qualit...</td>\n",
              "      <td>My only issue with the dot is the sound qualit...</td>\n",
              "    </tr>\n",
              "  </tbody>\n",
              "</table>\n",
              "</div>\n",
              "      <button class=\"colab-df-convert\" onclick=\"convertToInteractive('df-369e48f2-088f-4e62-b5b4-a673b852807a')\"\n",
              "              title=\"Convert this dataframe to an interactive table.\"\n",
              "              style=\"display:none;\">\n",
              "        \n",
              "  <svg xmlns=\"http://www.w3.org/2000/svg\" height=\"24px\"viewBox=\"0 0 24 24\"\n",
              "       width=\"24px\">\n",
              "    <path d=\"M0 0h24v24H0V0z\" fill=\"none\"/>\n",
              "    <path d=\"M18.56 5.44l.94 2.06.94-2.06 2.06-.94-2.06-.94-.94-2.06-.94 2.06-2.06.94zm-11 1L8.5 8.5l.94-2.06 2.06-.94-2.06-.94L8.5 2.5l-.94 2.06-2.06.94zm10 10l.94 2.06.94-2.06 2.06-.94-2.06-.94-.94-2.06-.94 2.06-2.06.94z\"/><path d=\"M17.41 7.96l-1.37-1.37c-.4-.4-.92-.59-1.43-.59-.52 0-1.04.2-1.43.59L10.3 9.45l-7.72 7.72c-.78.78-.78 2.05 0 2.83L4 21.41c.39.39.9.59 1.41.59.51 0 1.02-.2 1.41-.59l7.78-7.78 2.81-2.81c.8-.78.8-2.07 0-2.86zM5.41 20L4 18.59l7.72-7.72 1.47 1.35L5.41 20z\"/>\n",
              "  </svg>\n",
              "      </button>\n",
              "      \n",
              "  <style>\n",
              "    .colab-df-container {\n",
              "      display:flex;\n",
              "      flex-wrap:wrap;\n",
              "      gap: 12px;\n",
              "    }\n",
              "\n",
              "    .colab-df-convert {\n",
              "      background-color: #E8F0FE;\n",
              "      border: none;\n",
              "      border-radius: 50%;\n",
              "      cursor: pointer;\n",
              "      display: none;\n",
              "      fill: #1967D2;\n",
              "      height: 32px;\n",
              "      padding: 0 0 0 0;\n",
              "      width: 32px;\n",
              "    }\n",
              "\n",
              "    .colab-df-convert:hover {\n",
              "      background-color: #E2EBFA;\n",
              "      box-shadow: 0px 1px 2px rgba(60, 64, 67, 0.3), 0px 1px 3px 1px rgba(60, 64, 67, 0.15);\n",
              "      fill: #174EA6;\n",
              "    }\n",
              "\n",
              "    [theme=dark] .colab-df-convert {\n",
              "      background-color: #3B4455;\n",
              "      fill: #D2E3FC;\n",
              "    }\n",
              "\n",
              "    [theme=dark] .colab-df-convert:hover {\n",
              "      background-color: #434B5C;\n",
              "      box-shadow: 0px 1px 3px 1px rgba(0, 0, 0, 0.15);\n",
              "      filter: drop-shadow(0px 1px 2px rgba(0, 0, 0, 0.3));\n",
              "      fill: #FFFFFF;\n",
              "    }\n",
              "  </style>\n",
              "\n",
              "      <script>\n",
              "        const buttonEl =\n",
              "          document.querySelector('#df-369e48f2-088f-4e62-b5b4-a673b852807a button.colab-df-convert');\n",
              "        buttonEl.style.display =\n",
              "          google.colab.kernel.accessAllowed ? 'block' : 'none';\n",
              "\n",
              "        async function convertToInteractive(key) {\n",
              "          const element = document.querySelector('#df-369e48f2-088f-4e62-b5b4-a673b852807a');\n",
              "          const dataTable =\n",
              "            await google.colab.kernel.invokeFunction('convertToInteractive',\n",
              "                                                     [key], {});\n",
              "          if (!dataTable) return;\n",
              "\n",
              "          const docLinkHtml = 'Like what you see? Visit the ' +\n",
              "            '<a target=\"_blank\" href=https://colab.research.google.com/notebooks/data_table.ipynb>data table notebook</a>'\n",
              "            + ' to learn more about interactive tables.';\n",
              "          element.innerHTML = '';\n",
              "          dataTable['output_type'] = 'display_data';\n",
              "          await google.colab.output.renderOutput(dataTable, element);\n",
              "          const docLink = document.createElement('div');\n",
              "          docLink.innerHTML = docLinkHtml;\n",
              "          element.appendChild(docLink);\n",
              "        }\n",
              "      </script>\n",
              "    </div>\n",
              "  </div>\n",
              "  "
            ]
          },
          "metadata": {},
          "execution_count": 21
        }
      ],
      "source": [
        "df.tail()"
      ]
    },
    {
      "cell_type": "code",
      "execution_count": 22,
      "outputs": [],
      "source": [
        "emoticons = re.compile('[:;=]-?[)(DP]')\n",
        "\n",
        "df['verified_reviews'] = df['verified_reviews'].replace(emoticons, '')\n",
        "\n",
        "# print(df[\"verified_reviews\"][19])"
      ],
      "metadata": {
        "id": "L_8zNDtL0vuB"
      }
    },
    {
      "cell_type": "code",
      "execution_count": 23,
      "metadata": {
        "id": "xN2cNEsr0vuC"
      },
      "outputs": [],
      "source": [
        "# from transformers import GPT2Tokenizer\n",
        "# model_name=\"gpt2\"\n"
      ]
    },
    {
      "cell_type": "code",
      "source": [
        "dataframe = pd.DataFrame()\n",
        "for row in df.itertuples():\n",
        "  dataframe = pd.concat([dataframe, pd.DataFrame.from_records([{ 'reviews': row.verified_reviews, \"isHuman\": 1}])], ignore_index=True)\n",
        "  dataframe = pd.concat([dataframe, pd.DataFrame.from_records([{ 'reviews': row.paraphrased_reviews, \"isHuman\": 0}])], ignore_index=True)\n",
        "dataframe.head()"
      ],
      "metadata": {
        "colab": {
          "base_uri": "https://localhost:8080/",
          "height": 228
        },
        "id": "xbP1DRW2NxUL",
        "outputId": "f4feac82-df23-4bce-db3a-d44e662acc95"
      },
      "execution_count": 24,
      "outputs": [
        {
          "output_type": "execute_result",
          "data": {
            "text/plain": [
              "                                             reviews  isHuman\n",
              "0                                      Love my Echo!        1\n",
              "1                            I'm so fond of my Echo!        0\n",
              "2                                          Loved it!        1\n",
              "3                                       I adored it!        0\n",
              "4  Sometimes while playing a game, you can answer...        1"
            ],
            "text/html": [
              "\n",
              "  <div id=\"df-012dae88-8fc4-4cd8-b459-825e8445a3b8\">\n",
              "    <div class=\"colab-df-container\">\n",
              "      <div>\n",
              "<style scoped>\n",
              "    .dataframe tbody tr th:only-of-type {\n",
              "        vertical-align: middle;\n",
              "    }\n",
              "\n",
              "    .dataframe tbody tr th {\n",
              "        vertical-align: top;\n",
              "    }\n",
              "\n",
              "    .dataframe thead th {\n",
              "        text-align: right;\n",
              "    }\n",
              "</style>\n",
              "<table border=\"1\" class=\"dataframe\">\n",
              "  <thead>\n",
              "    <tr style=\"text-align: right;\">\n",
              "      <th></th>\n",
              "      <th>reviews</th>\n",
              "      <th>isHuman</th>\n",
              "    </tr>\n",
              "  </thead>\n",
              "  <tbody>\n",
              "    <tr>\n",
              "      <th>0</th>\n",
              "      <td>Love my Echo!</td>\n",
              "      <td>1</td>\n",
              "    </tr>\n",
              "    <tr>\n",
              "      <th>1</th>\n",
              "      <td>I'm so fond of my Echo!</td>\n",
              "      <td>0</td>\n",
              "    </tr>\n",
              "    <tr>\n",
              "      <th>2</th>\n",
              "      <td>Loved it!</td>\n",
              "      <td>1</td>\n",
              "    </tr>\n",
              "    <tr>\n",
              "      <th>3</th>\n",
              "      <td>I adored it!</td>\n",
              "      <td>0</td>\n",
              "    </tr>\n",
              "    <tr>\n",
              "      <th>4</th>\n",
              "      <td>Sometimes while playing a game, you can answer...</td>\n",
              "      <td>1</td>\n",
              "    </tr>\n",
              "  </tbody>\n",
              "</table>\n",
              "</div>\n",
              "      <button class=\"colab-df-convert\" onclick=\"convertToInteractive('df-012dae88-8fc4-4cd8-b459-825e8445a3b8')\"\n",
              "              title=\"Convert this dataframe to an interactive table.\"\n",
              "              style=\"display:none;\">\n",
              "        \n",
              "  <svg xmlns=\"http://www.w3.org/2000/svg\" height=\"24px\"viewBox=\"0 0 24 24\"\n",
              "       width=\"24px\">\n",
              "    <path d=\"M0 0h24v24H0V0z\" fill=\"none\"/>\n",
              "    <path d=\"M18.56 5.44l.94 2.06.94-2.06 2.06-.94-2.06-.94-.94-2.06-.94 2.06-2.06.94zm-11 1L8.5 8.5l.94-2.06 2.06-.94-2.06-.94L8.5 2.5l-.94 2.06-2.06.94zm10 10l.94 2.06.94-2.06 2.06-.94-2.06-.94-.94-2.06-.94 2.06-2.06.94z\"/><path d=\"M17.41 7.96l-1.37-1.37c-.4-.4-.92-.59-1.43-.59-.52 0-1.04.2-1.43.59L10.3 9.45l-7.72 7.72c-.78.78-.78 2.05 0 2.83L4 21.41c.39.39.9.59 1.41.59.51 0 1.02-.2 1.41-.59l7.78-7.78 2.81-2.81c.8-.78.8-2.07 0-2.86zM5.41 20L4 18.59l7.72-7.72 1.47 1.35L5.41 20z\"/>\n",
              "  </svg>\n",
              "      </button>\n",
              "      \n",
              "  <style>\n",
              "    .colab-df-container {\n",
              "      display:flex;\n",
              "      flex-wrap:wrap;\n",
              "      gap: 12px;\n",
              "    }\n",
              "\n",
              "    .colab-df-convert {\n",
              "      background-color: #E8F0FE;\n",
              "      border: none;\n",
              "      border-radius: 50%;\n",
              "      cursor: pointer;\n",
              "      display: none;\n",
              "      fill: #1967D2;\n",
              "      height: 32px;\n",
              "      padding: 0 0 0 0;\n",
              "      width: 32px;\n",
              "    }\n",
              "\n",
              "    .colab-df-convert:hover {\n",
              "      background-color: #E2EBFA;\n",
              "      box-shadow: 0px 1px 2px rgba(60, 64, 67, 0.3), 0px 1px 3px 1px rgba(60, 64, 67, 0.15);\n",
              "      fill: #174EA6;\n",
              "    }\n",
              "\n",
              "    [theme=dark] .colab-df-convert {\n",
              "      background-color: #3B4455;\n",
              "      fill: #D2E3FC;\n",
              "    }\n",
              "\n",
              "    [theme=dark] .colab-df-convert:hover {\n",
              "      background-color: #434B5C;\n",
              "      box-shadow: 0px 1px 3px 1px rgba(0, 0, 0, 0.15);\n",
              "      filter: drop-shadow(0px 1px 2px rgba(0, 0, 0, 0.3));\n",
              "      fill: #FFFFFF;\n",
              "    }\n",
              "  </style>\n",
              "\n",
              "      <script>\n",
              "        const buttonEl =\n",
              "          document.querySelector('#df-012dae88-8fc4-4cd8-b459-825e8445a3b8 button.colab-df-convert');\n",
              "        buttonEl.style.display =\n",
              "          google.colab.kernel.accessAllowed ? 'block' : 'none';\n",
              "\n",
              "        async function convertToInteractive(key) {\n",
              "          const element = document.querySelector('#df-012dae88-8fc4-4cd8-b459-825e8445a3b8');\n",
              "          const dataTable =\n",
              "            await google.colab.kernel.invokeFunction('convertToInteractive',\n",
              "                                                     [key], {});\n",
              "          if (!dataTable) return;\n",
              "\n",
              "          const docLinkHtml = 'Like what you see? Visit the ' +\n",
              "            '<a target=\"_blank\" href=https://colab.research.google.com/notebooks/data_table.ipynb>data table notebook</a>'\n",
              "            + ' to learn more about interactive tables.';\n",
              "          element.innerHTML = '';\n",
              "          dataTable['output_type'] = 'display_data';\n",
              "          await google.colab.output.renderOutput(dataTable, element);\n",
              "          const docLink = document.createElement('div');\n",
              "          docLink.innerHTML = docLinkHtml;\n",
              "          element.appendChild(docLink);\n",
              "        }\n",
              "      </script>\n",
              "    </div>\n",
              "  </div>\n",
              "  "
            ]
          },
          "metadata": {},
          "execution_count": 24
        }
      ]
    },
    {
      "cell_type": "code",
      "execution_count": 25,
      "outputs": [
        {
          "output_type": "stream",
          "name": "stdout",
          "text": [
            "1\n"
          ]
        }
      ],
      "source": [
        "labels = dataframe[\"isHuman\"]\n",
        "training_text = dataframe[\"reviews\"].tolist()\n",
        "print(labels[0])"
      ],
      "metadata": {
        "colab": {
          "base_uri": "https://localhost:8080/"
        },
        "id": "RQJ6SUVa0vuC",
        "outputId": "c3c37309-8c25-45f5-eb9f-fe4835e7c81e"
      }
    },
    {
      "cell_type": "code",
      "source": [
        "# pip install transformers"
      ],
      "metadata": {
        "id": "xjHJxn0YU9in"
      },
      "execution_count": 26,
      "outputs": []
    },
    {
      "cell_type": "code",
      "execution_count": 27,
      "outputs": [
        {
          "output_type": "stream",
          "name": "stderr",
          "text": [
            "IOPub data rate exceeded.\n",
            "The notebook server will temporarily stop sending output\n",
            "to the client in order to avoid crashing it.\n",
            "To change this limit, set the config variable\n",
            "`--NotebookApp.iopub_data_rate_limit`.\n",
            "\n",
            "Current values:\n",
            "NotebookApp.iopub_data_rate_limit=1000000.0 (bytes/sec)\n",
            "NotebookApp.rate_limit_window=3.0 (secs)\n",
            "\n"
          ]
        }
      ],
      "source": [
        "from transformers import AutoTokenizer, GPT2Config, GPT2Model, AdamW, get_linear_schedule_with_warmup\n",
        "import torch\n",
        "from progressbar import progressbar\n",
        "from csv import writer\n",
        "from keras.utils import pad_sequences\n",
        "from sklearn import preprocessing\n",
        "\n",
        "def get_device():\n",
        "  if torch.cuda.is_available():\n",
        "      device = 'cuda:0'\n",
        "  else:\n",
        "      device = 'cpu'\n",
        "  return device\n",
        "\n",
        "def tokenize(training_text):\n",
        "  encodedSentences = []\n",
        "  tokenizer = AutoTokenizer.from_pretrained('gpt2')\n",
        "  for data in training_text:\n",
        "    encoded_input = tokenizer.encode(data, add_special_tokens=True)\n",
        "    encodedSentences.append(encoded_input)\n",
        "  return encodedSentences, pad_sequences(encodedSentences, maxlen=512, dtype=\"long\", value=0, truncating=\"post\", padding=\"post\")\n",
        "\n",
        "def attentionMask(encodedText):\n",
        "  sentences_attention_masks = []\n",
        "  for encoding in encodedText:\n",
        "      att_mask = [int(token_id > 0) for token_id in encoding]\n",
        "      sentences_attention_masks.append(att_mask)\n",
        "  return sentences_attention_masks\n",
        "\n",
        "def label_preprocessing(label_data,convert = True):\n",
        "  le = preprocessing.LabelEncoder()\n",
        "  if convert :\n",
        "      labels = le.fit_transform(label_data)\n",
        "      return labels\n",
        "  else:\n",
        "      labels = le.inverse_transform(label_data)\n",
        "      return labels\n",
        "\n",
        "def flat_accuracy(preds, labels):\n",
        "  return (preds == labels).mean()\n",
        "\n",
        "tokenize_text, tokenize_text_pad = tokenize(training_text)\n",
        "labels = label_preprocessing(labels)\n",
        "# print(tokenize_text[0])\n",
        "sentences_attention_masks = attentionMask(tokenize_text_pad)\n",
        "print(sentences_attention_masks)"
      ],
      "metadata": {
        "pycharm": {
          "is_executing": true
        },
        "colab": {
          "base_uri": "https://localhost:8080/"
        },
        "id": "fV_fg06_0vuC",
        "outputId": "d5094eb4-0b6d-4db9-9b7e-98895cf7c8aa"
      }
    },
    {
      "cell_type": "code",
      "source": [
        "print(tokenize_text[0])"
      ],
      "metadata": {
        "colab": {
          "base_uri": "https://localhost:8080/"
        },
        "id": "qc8AMMylp1kG",
        "outputId": "f7f8a509-2881-43f4-b85c-87a813c2d157"
      },
      "execution_count": 28,
      "outputs": [
        {
          "output_type": "stream",
          "name": "stdout",
          "text": [
            "[18565, 616, 21455, 0]\n"
          ]
        }
      ]
    },
    {
      "cell_type": "code",
      "source": [
        "train_inputs, test_inputs, train_labels, test_labels = train_test_split(tokenize_text_pad, labels,\n",
        "                                                                                    random_state=2018, test_size=0.1)\n",
        "train_masks, test_masks, _, _ = train_test_split(sentences_attention_masks, labels,\n",
        "                                                        random_state=2018, test_size=0.1)"
      ],
      "metadata": {
        "id": "Ifkd091Jn6n8"
      },
      "execution_count": 29,
      "outputs": []
    },
    {
      "cell_type": "code",
      "source": [
        "len(train_masks[0])"
      ],
      "metadata": {
        "colab": {
          "base_uri": "https://localhost:8080/"
        },
        "id": "FoWI8UB_sihR",
        "outputId": "595dd69e-e61a-47aa-f304-c9fa2103750b"
      },
      "execution_count": 30,
      "outputs": [
        {
          "output_type": "execute_result",
          "data": {
            "text/plain": [
              "512"
            ]
          },
          "metadata": {},
          "execution_count": 30
        }
      ]
    },
    {
      "cell_type": "code",
      "source": [
        "from torch.utils.data import TensorDataset, DataLoader, RandomSampler, SequentialSampler\n",
        "\n",
        "train_inputs = torch.tensor(train_inputs)\n",
        "test_inputs = torch.tensor(test_inputs)\n",
        "\n",
        "train_labels = torch.tensor(train_labels)\n",
        "test_labels = torch.tensor(test_labels)\n",
        "\n",
        "train_masks = torch.tensor(train_masks)\n",
        "test_masks = torch.tensor(test_masks)\n",
        "\n",
        "\n",
        "# Create the DataLoader for our training set.\n",
        "train_data = TensorDataset(train_inputs, train_masks, train_labels)\n",
        "train_sampler = RandomSampler(train_data)\n",
        "train_dataloader = DataLoader(train_data, sampler=train_sampler, batch_size=8)\n",
        "\n",
        "# Create the DataLoader for our test set.\n",
        "test_data = TensorDataset(test_inputs, test_masks, test_labels)\n",
        "test_sampler = SequentialSampler(test_data)\n",
        "test_dataloader = DataLoader(test_data, sampler=test_sampler, batch_size=8)"
      ],
      "metadata": {
        "id": "ajpDLo37kqKG"
      },
      "execution_count": 31,
      "outputs": []
    },
    {
      "cell_type": "code",
      "source": [
        "model = GPT2Model.from_pretrained('gpt2',\n",
        "                                num_labels=2,\n",
        "                                output_attentions=False,\n",
        "                                output_hidden_states=False\n",
        "                                ).to(get_device())\n",
        "\n",
        "optimizer = AdamW(model.parameters(),\n",
        "                      lr=2e-5,  # args.learning_rate - default is 5e-5, our notebook had 2e-5\n",
        "                      eps=1e-8\n",
        "                      )"
      ],
      "metadata": {
        "colab": {
          "base_uri": "https://localhost:8080/"
        },
        "id": "SAy53AVOnihx",
        "outputId": "125f986f-3533-45bb-a4ab-b6af7e936e63"
      },
      "execution_count": 32,
      "outputs": [
        {
          "output_type": "stream",
          "name": "stderr",
          "text": [
            "/usr/local/lib/python3.9/dist-packages/transformers/optimization.py:391: FutureWarning: This implementation of AdamW is deprecated and will be removed in a future version. Use the PyTorch implementation torch.optim.AdamW instead, or set `no_deprecation_warning=True` to disable this warning\n",
            "  warnings.warn(\n"
          ]
        }
      ]
    },
    {
      "cell_type": "code",
      "source": [
        "import random\n",
        "import time\n",
        "\n",
        "def start_training(epochs, optimizer, model, train_dataloader, test_dataloader):\n",
        "  torch.cuda.empty_cache()\n",
        "  total_steps = len(train_dataloader) * epochs\n",
        "\n",
        "  scheduler = get_linear_schedule_with_warmup(optimizer,\n",
        "                                              num_warmup_steps=0,  # Default value in run_glue.py\n",
        "                                              num_training_steps=total_steps)\n",
        "\n",
        "  seed_val = 42\n",
        "\n",
        "  random.seed(seed_val)\n",
        "  np.random.seed(seed_val)\n",
        "  torch.manual_seed(seed_val)\n",
        "  torch.cuda.manual_seed_all(seed_val)\n",
        "\n",
        "  loss_values = []\n",
        "  device = get_device()\n",
        "\n",
        "  for epoch_i in range(0, epochs):\n",
        "\n",
        "      # ========================================\n",
        "      #               Training\n",
        "      # ========================================\n",
        "\n",
        "      print(\"\")\n",
        "      print(\n",
        "          '======== Epoch {:} / {:} ========'.format(epoch_i + 1, epochs))\n",
        "      print('Training...')\n",
        "\n",
        "      t0 = time.time()\n",
        "\n",
        "      total_loss = 0\n",
        "\n",
        "      model.train()\n",
        "\n",
        "      # For each batch of training data...\n",
        "      for step, batch in progressbar(enumerate(train_dataloader)):\n",
        "          # Progress update every 40 batches.\n",
        "          if step % 40 == 0 and not step == 0:\n",
        "              # Calculate elapsed time in minutes.\n",
        "              # elapsed = self.__format_time__(time.time() - t0)\n",
        "\n",
        "              # Report progress.\n",
        "              print('  Batch {:>5,}  of  {:>5,}.'.format(\n",
        "                  step, len(train_dataloader)))\n",
        "\n",
        "          b_input_ids = batch[0].to(device)\n",
        "          b_input_mask = batch[1].to(device)\n",
        "          b_labels = batch[2].to(device)\n",
        "\n",
        "          model.zero_grad()\n",
        "\n",
        "          outputs = model(b_input_ids,\n",
        "                          token_type_ids=None,\n",
        "                          attention_mask=b_input_mask)#,\n",
        "                          #labels=b_labels)\n",
        "          loss = outputs[0]\n",
        "          print(loss)\n",
        "          print(loss.shape)\n",
        "          print(loss[0].shape)\n",
        "\n",
        "          total_loss += loss.item()\n",
        "\n",
        "          loss.backward()\n",
        "\n",
        "          torch.nn.utils.clip_grad_norm_(model.parameters(), 1.0)\n",
        "          optimizer.step()\n",
        "          scheduler.step()\n",
        "      avg_train_loss = total_loss / len(train_dataloader)\n",
        "      loss_values.append(avg_train_loss)\n",
        "\n",
        "      print(\"\")\n",
        "      print(\"  Average training loss: {0:.2f}\".format(avg_train_loss))\n",
        "      # print(\"  Training epcoh took: {:}\".format(\n",
        "      #     self.__format_time__(time.time() - t0)))\n",
        "      print(\"\")\n",
        "      print(\"Running Validation...\")\n",
        "      # t0 = time.time()\n",
        "      model.eval()\n",
        "\n",
        "      # Tracking variables\n",
        "      eval_loss, eval_accuracy = 0, 0\n",
        "      nb_eval_steps, nb_eval_examples = 0, 0\n",
        "\n",
        "      for batch in test_dataloader:\n",
        "          batch = tuple(t.to(device) for t in batch)\n",
        "          b_input_ids, b_input_mask, b_labels = batch\n",
        "          with torch.no_grad():\n",
        "              outputs = model(b_input_ids,\n",
        "                              token_type_ids=None,\n",
        "                              attention_mask=b_input_mask)\n",
        "          logits = outputs[0]\n",
        "          logits = logits.detach().cpu().numpy()\n",
        "          label_ids = b_labels.to('cpu').numpy()\n",
        "          tmp_eval_accuracy = flat_accuracy(logits, label_ids)\n",
        "          eval_accuracy += tmp_eval_accuracy\n",
        "          nb_eval_steps += 1\n",
        "          print(\"  Accuracy: {0:.2f}\".format(\n",
        "              eval_accuracy/nb_eval_steps))\n",
        "\n",
        "  print(\"\")\n",
        "  print(\"Training complete!\")"
      ],
      "metadata": {
        "id": "c5kEGvcCv_q-"
      },
      "execution_count": 33,
      "outputs": []
    },
    {
      "cell_type": "code",
      "source": [
        "torch.cuda.empty_cache()\n",
        "start_training(5, optimizer, model, train_dataloader, test_dataloader)"
      ],
      "metadata": {
        "colab": {
          "base_uri": "https://localhost:8080/",
          "height": 1000
        },
        "id": "PEAA9snuz4F6",
        "outputId": "41e8f29f-e4f2-4581-fb94-9cbbb418aec8"
      },
      "execution_count": 34,
      "outputs": [
        {
          "output_type": "stream",
          "name": "stderr",
          "text": [
            "\r/ |#                                                  | 0 Elapsed Time: 0:00:00"
          ]
        },
        {
          "output_type": "stream",
          "name": "stdout",
          "text": [
            "\n",
            "======== Epoch 1 / 5 ========\n",
            "Training...\n",
            "tensor([[[ 9.4589e-03, -7.7310e-02,  4.7861e-01,  ...,  1.4147e-01,\n",
            "          -5.8280e-02,  1.9994e-01],\n",
            "         [-3.0976e-01, -6.1792e-01, -7.0628e-01,  ...,  2.7664e-01,\n",
            "          -1.0654e-01,  2.9180e-01],\n",
            "         [ 2.2315e-01, -1.8579e-01, -9.6592e-01,  ..., -1.2104e-01,\n",
            "          -5.0817e-01,  6.9808e-01],\n",
            "         ...,\n",
            "         [ 9.4846e-02, -5.1787e-01, -3.5538e-01,  ..., -1.3622e-01,\n",
            "          -2.3214e-01, -1.0584e-01],\n",
            "         [ 9.0099e-02, -3.0698e-01, -2.7457e-01,  ..., -3.7087e-01,\n",
            "          -2.4739e-01, -4.6608e-02],\n",
            "         [-6.5139e-02, -3.3304e-01, -2.6345e-01,  ..., -1.2734e-01,\n",
            "          -2.9192e-01, -1.1338e-01]],\n",
            "\n",
            "        [[ 6.7790e-02, -9.2249e-02,  4.7648e-01,  ...,  1.2614e-01,\n",
            "          -3.9228e-01,  5.1486e-02],\n",
            "         [-3.8320e-01, -3.5894e-01, -4.1859e-01,  ...,  2.1880e-01,\n",
            "           1.3745e-01,  3.8952e-02],\n",
            "         [-8.2237e-02,  2.6777e-01, -1.4996e+00,  ...,  5.0166e-01,\n",
            "          -5.3396e-02,  2.0092e-01],\n",
            "         ...,\n",
            "         [ 2.3491e-01, -3.7409e-01, -5.9816e-01,  ..., -1.4729e-01,\n",
            "           1.7315e-01, -2.9188e-01],\n",
            "         [ 1.8414e-01, -3.9997e-01, -2.3663e-01,  ..., -3.9218e-04,\n",
            "           3.9349e-02, -2.6006e-01],\n",
            "         [ 3.0350e-01, -3.7270e-01, -7.7595e-01,  ..., -1.9251e-01,\n",
            "           3.7375e-02, -2.9692e-01]],\n",
            "\n",
            "        [[ 2.1919e-01,  1.4550e-01,  5.8894e-01,  ..., -8.2741e-02,\n",
            "          -2.0750e-01, -1.1461e-01],\n",
            "         [-1.7840e-01, -1.3697e-01, -3.4411e-01,  ..., -2.8696e-01,\n",
            "           3.4306e-01,  3.3588e-01],\n",
            "         [-2.6929e-01,  8.2636e-01,  3.1065e-01,  ..., -1.5840e-01,\n",
            "           2.2000e-01, -5.9897e-01],\n",
            "         ...,\n",
            "         [ 1.9684e-01, -3.0466e-01, -5.0029e-01,  ..., -3.6200e-01,\n",
            "          -1.1442e-01,  2.4585e-01],\n",
            "         [ 1.7273e-01, -5.8565e-01, -2.9877e-01,  ..., -3.4605e-01,\n",
            "          -7.1227e-02,  1.3126e-01],\n",
            "         [ 1.2672e-01, -5.8080e-01, -2.1723e-01,  ..., -2.8570e-01,\n",
            "          -7.9525e-02,  2.9173e-01]],\n",
            "\n",
            "        ...,\n",
            "\n",
            "        [[-5.7957e-02,  1.7667e-03, -1.5805e-01,  ..., -8.7075e-02,\n",
            "          -5.4519e-02, -3.7248e-02],\n",
            "         [-1.8198e-02, -2.3729e-01,  2.1242e-01,  ...,  2.1645e-02,\n",
            "           3.1909e-02, -9.5558e-02],\n",
            "         [-9.0944e-02, -4.2847e-01,  3.1576e-01,  ..., -1.5049e-01,\n",
            "          -3.8178e-01, -1.3865e-02],\n",
            "         ...,\n",
            "         [ 7.1122e-02, -1.4928e-01, -6.3321e-02,  ...,  2.1213e-01,\n",
            "          -1.2627e-01, -1.9300e-02],\n",
            "         [-5.7617e-02, -1.2705e-01, -2.6538e-01,  ...,  3.7105e-01,\n",
            "           2.7527e-01,  2.7935e-01],\n",
            "         [ 2.7917e-01, -3.3553e-01, -1.1297e-01,  ...,  1.7749e-01,\n",
            "          -1.2471e-01,  5.5587e-02]],\n",
            "\n",
            "        [[ 1.2249e-01, -3.5348e-01, -9.2750e-01,  ...,  4.9125e-01,\n",
            "          -2.4751e-01,  2.9571e-01],\n",
            "         [-4.8155e-01, -2.8953e-01, -4.1974e-01,  ...,  3.5773e-01,\n",
            "           3.5297e-01, -3.5437e-02],\n",
            "         [ 6.3030e-01, -3.5873e-01, -6.8656e-01,  ...,  4.0228e-01,\n",
            "          -1.0335e-01,  2.4550e-02],\n",
            "         ...,\n",
            "         [ 7.8660e-01,  6.7530e-01,  1.2545e+00,  ...,  6.0936e-01,\n",
            "          -1.8580e-01,  8.6924e-01],\n",
            "         [ 3.7486e-01, -7.1395e-01,  7.9966e-01,  ...,  6.2979e-02,\n",
            "          -3.1244e-01, -1.3949e-01],\n",
            "         [ 2.5655e-01, -1.3450e-01,  1.0291e+00,  ...,  4.4172e-02,\n",
            "           6.8651e-03,  2.9971e-01]],\n",
            "\n",
            "        [[ 1.6088e-01, -4.6416e-02,  7.2565e-01,  ..., -3.9629e-02,\n",
            "          -1.1585e-01,  4.1031e-01],\n",
            "         [-5.5941e-01, -2.8929e-01, -3.0809e-01,  ...,  1.1741e-02,\n",
            "          -3.0732e-01,  2.4665e-01],\n",
            "         [-9.3606e-02, -7.4109e-01, -4.0833e-01,  ..., -7.5673e-02,\n",
            "          -5.4396e-01,  4.2826e-02],\n",
            "         ...,\n",
            "         [ 7.0959e-02, -4.5133e-01, -3.4687e-01,  ..., -1.2254e-01,\n",
            "          -2.7460e-01, -1.1181e-02],\n",
            "         [-3.3981e-02, -5.2428e-01, -3.0271e-01,  ..., -3.3541e-02,\n",
            "          -3.7226e-01, -1.0300e-01],\n",
            "         [-3.1326e-03, -8.1643e-01, -3.0444e-01,  ...,  4.3504e-01,\n",
            "          -3.5008e-01,  1.8897e-01]]], device='cuda:0',\n",
            "       grad_fn=<ViewBackward0>)\n",
            "torch.Size([8, 512, 768])\n",
            "torch.Size([512, 768])\n"
          ]
        },
        {
          "output_type": "error",
          "ename": "RuntimeError",
          "evalue": "ignored",
          "traceback": [
            "\u001b[0;31m---------------------------------------------------------------------------\u001b[0m",
            "\u001b[0;31mRuntimeError\u001b[0m                              Traceback (most recent call last)",
            "\u001b[0;32m<ipython-input-34-91753278112f>\u001b[0m in \u001b[0;36m<cell line: 2>\u001b[0;34m()\u001b[0m\n\u001b[1;32m      1\u001b[0m \u001b[0mtorch\u001b[0m\u001b[0;34m.\u001b[0m\u001b[0mcuda\u001b[0m\u001b[0;34m.\u001b[0m\u001b[0mempty_cache\u001b[0m\u001b[0;34m(\u001b[0m\u001b[0;34m)\u001b[0m\u001b[0;34m\u001b[0m\u001b[0;34m\u001b[0m\u001b[0m\n\u001b[0;32m----> 2\u001b[0;31m \u001b[0mstart_training\u001b[0m\u001b[0;34m(\u001b[0m\u001b[0;36m5\u001b[0m\u001b[0;34m,\u001b[0m \u001b[0moptimizer\u001b[0m\u001b[0;34m,\u001b[0m \u001b[0mmodel\u001b[0m\u001b[0;34m,\u001b[0m \u001b[0mtrain_dataloader\u001b[0m\u001b[0;34m,\u001b[0m \u001b[0mtest_dataloader\u001b[0m\u001b[0;34m)\u001b[0m\u001b[0;34m\u001b[0m\u001b[0;34m\u001b[0m\u001b[0m\n\u001b[0m",
            "\u001b[0;32m<ipython-input-33-e09aeb17b06b>\u001b[0m in \u001b[0;36mstart_training\u001b[0;34m(epochs, optimizer, model, train_dataloader, test_dataloader)\u001b[0m\n\u001b[1;32m     63\u001b[0m           \u001b[0mprint\u001b[0m\u001b[0;34m(\u001b[0m\u001b[0mloss\u001b[0m\u001b[0;34m[\u001b[0m\u001b[0;36m0\u001b[0m\u001b[0;34m]\u001b[0m\u001b[0;34m.\u001b[0m\u001b[0mshape\u001b[0m\u001b[0;34m)\u001b[0m\u001b[0;34m\u001b[0m\u001b[0;34m\u001b[0m\u001b[0m\n\u001b[1;32m     64\u001b[0m \u001b[0;34m\u001b[0m\u001b[0m\n\u001b[0;32m---> 65\u001b[0;31m           \u001b[0mtotal_loss\u001b[0m \u001b[0;34m+=\u001b[0m \u001b[0mloss\u001b[0m\u001b[0;34m.\u001b[0m\u001b[0mitem\u001b[0m\u001b[0;34m(\u001b[0m\u001b[0;34m)\u001b[0m\u001b[0;34m\u001b[0m\u001b[0;34m\u001b[0m\u001b[0m\n\u001b[0m\u001b[1;32m     66\u001b[0m \u001b[0;34m\u001b[0m\u001b[0m\n\u001b[1;32m     67\u001b[0m           \u001b[0mloss\u001b[0m\u001b[0;34m.\u001b[0m\u001b[0mbackward\u001b[0m\u001b[0;34m(\u001b[0m\u001b[0;34m)\u001b[0m\u001b[0;34m\u001b[0m\u001b[0;34m\u001b[0m\u001b[0m\n",
            "\u001b[0;31mRuntimeError\u001b[0m: a Tensor with 3145728 elements cannot be converted to Scalar"
          ]
        }
      ]
    },
    {
      "cell_type": "code",
      "source": [
        "import torch.nn.functional as F\n",
        "\n",
        "# Flatten the predictions and true labels\n",
        "logits_flat = outputs.view(-1, outputs.shape[-1])\n",
        "labels_flat = b_labels.view(-1)\n",
        "\n",
        "# Calculate the cross-entropy loss\n",
        "loss = F.cross_entropy(logits_flat, labels_flat)"
      ],
      "metadata": {
        "id": "0JlxjhaF-lgQ"
      },
      "execution_count": null,
      "outputs": []
    },
    {
      "cell_type": "code",
      "source": [
        "# # dataframe['reviews'] = dataframe['reviews'].apply(lambda x: tokenizer(x, return_tensors='pt'))\n",
        "# device = torch.device('cuda' if torch.cuda.is_available() else 'cpu')\n",
        "# print(device)\n",
        "# model = GPT2Model.from_pretrained('gpt2')\n",
        "# # torch.device(device)\n",
        "# # dataframe['reviews'] = dataframe['reviews'].apply(lambda x: model(x))\n",
        "\n",
        "# # Define a function to embed a sentence using GPT-2\n",
        "# def embed_sentence_gpt2(sentence):\n",
        "#   # print(sentence)\n",
        "#   # Tokenize the sentence\n",
        "#   encoded_input = tokenizer(sentence, return_tensors='pt')\n",
        "#   # Get the model's hidden state for the sentence\n",
        "#   with torch.no_grad():\n",
        "#     output = model(**encoded_input)\n",
        "#   embeddings = output.last_hidden_state.mean(dim=1).numpy()\n",
        "#   return embeddings\n",
        "\n",
        "# # # Example usage:\n",
        "# # # sentence = \"This is a test sentence.\"\n",
        "# # # gpt2_embedding = embed_sentence_gpt2(sentence)\n",
        "# # # df['verified_reviews'] = df['verified_reviews'] + tokenizer.eos_token\n",
        "# # # df['verified_reviews'][0]\n",
        "\n",
        "# # print(df)\n",
        "# tempList = []\n",
        "# dfTemp = pd.DataFrame()\n",
        "# with open('embedding_gen.csv', 'a') as f_object:\n",
        "#     writer_object = writer(f_object)\n",
        "#     writer_object.writerow([\"embedding\"])\n",
        "#     f_object.close()\n",
        "# # print(tempList)\n",
        "# for review in progressbar(dataframe['reviews']):\n",
        "#   embedding = embed_sentence_gpt2(review)\n",
        "#   with open('embedding_gen.csv', 'a') as f_object:\n",
        "#         writer_object = writer(f_object)\n",
        "#         writer_object.writerow(embedding)\n",
        "#         f_object.close()\n",
        "\n",
        "# tempList\n",
        "\n",
        "\n",
        "# # Tokenize text column\n",
        "# # dataframe['reviews'] = dataframe['reviews'].apply(lambda x: embed_sentence_gpt2(x))\n",
        "# # df['paraphrased_reviews'] = df['paraphrased_reviews'].apply(lambda x: embed_sentence_gpt2(x))\n",
        "\n",
        "# # # Print updated data frame\n",
        "# # print(df)\n"
      ],
      "metadata": {
        "id": "E-MFSYYYkIWi"
      },
      "execution_count": null,
      "outputs": []
    },
    {
      "cell_type": "code",
      "execution_count": null,
      "outputs": [],
      "source": [
        "# x_train, y_train,x_test,y_test = train_test_split(df['reviews'], df[\"isHuman\"], test_size=0.2, random_state=265)\n",
        "# print(x_train)"
      ],
      "metadata": {
        "pycharm": {
          "is_executing": true
        },
        "id": "b9-M_3NE0vuD"
      }
    },
    {
      "cell_type": "code",
      "execution_count": null,
      "outputs": [],
      "source": [],
      "metadata": {
        "pycharm": {
          "is_executing": true
        },
        "id": "JebBUV490vuD"
      }
    },
    {
      "cell_type": "code",
      "execution_count": null,
      "outputs": [],
      "source": [
        "# c = 1048576\n",
        "# print(0x80 | (c >> 21))\n",
        "# # print(0x80 | (c & 0x3F))\n",
        "# # print(0xe0 | (c >> 18))\n",
        "# # print(0x80 | (c & 0x3F))"
      ],
      "metadata": {
        "pycharm": {
          "is_executing": true
        },
        "id": "WXbhQzA60vuD"
      }
    },
    {
      "cell_type": "code",
      "execution_count": null,
      "outputs": [],
      "source": [],
      "metadata": {
        "pycharm": {
          "is_executing": true
        },
        "id": "75RP4Gol0vuD"
      }
    }
  ],
  "metadata": {
    "kernelspec": {
      "display_name": "Python 3.9.12 ('base')",
      "language": "python",
      "name": "python3"
    },
    "language_info": {
      "codemirror_mode": {
        "name": "ipython",
        "version": 3
      },
      "file_extension": ".py",
      "mimetype": "text/x-python",
      "name": "python",
      "nbconvert_exporter": "python",
      "pygments_lexer": "ipython3",
      "version": "3.9.12"
    },
    "orig_nbformat": 4,
    "vscode": {
      "interpreter": {
        "hash": "bec4ffc65abad1b1b7862a0abc19e670057a4673581208a7c61a208b38b7ad18"
      }
    },
    "colab": {
      "provenance": []
    },
    "accelerator": "GPU",
    "gpuClass": "standard"
  },
  "nbformat": 4,
  "nbformat_minor": 0
}